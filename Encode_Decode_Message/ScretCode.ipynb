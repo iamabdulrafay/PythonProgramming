{
 "cells": [
  {
   "cell_type": "markdown",
   "id": "2eb61572-1d26-4036-a36d-fed679a75117",
   "metadata": {},
   "source": [
    "# SECRET CODE \n",
    "\n"
   ]
  },
  {
   "cell_type": "markdown",
   "id": "39e2b302-3028-4240-85c7-d4c9860507bf",
   "metadata": {},
   "source": [
    "##### CODING \n",
    "- IF\n",
    "\n",
    "THE SENTECNCE CERATE 3 CHARACTER REMOVE FIRST CHARACTER AND APPEN IT INTO LAST OF THE SENTECNCE NO APPEND ATLEAST THREE CHARACTER AT STRING AND ENDING\n",
    "\n",
    "- ELSE:\n",
    "\n",
    "SIMPLY REVRSE IT\n"
   ]
  },
  {
   "cell_type": "markdown",
   "id": "8106b0bd-227d-4685-a1d6-87a14b013334",
   "metadata": {},
   "source": [
    "##### DECODING\n",
    "- IF:  \n",
    " THE WORD CONTAIN LESST TEHN THRE CHARACYTER REVRSE IT .\n",
    "     \n",
    "- ELSE:\n",
    "  \n",
    "  REMOVE THE FIST THREE CHARACTER FROM LAST AND END AND APPEN THE LAST CHARCTER AT BEGINING"
   ]
  },
  {
   "cell_type": "code",
   "execution_count": null,
   "id": "7491a3eb-8415-4353-a6b1-bba5a7502997",
   "metadata": {},
   "outputs": [],
   "source": []
  },
  {
   "cell_type": "code",
   "execution_count": null,
   "id": "687d11a5-6e18-46c7-ad27-92360be498a5",
   "metadata": {},
   "outputs": [],
   "source": [
    "# import random\n",
    "\n",
    "# Ask the user for the operation: encode or decode\n",
    "coded_decode = int(input(\"What do you want to do? Encode (0) or decode (1) message? \"))\n",
    "\n",
    "# Get the user's message\n",
    "user_input = input(\"Write your message: \")\n",
    "\n",
    "# List of random choices\n",
    "random_list = ['guh34', 'hg76l', 'jnnj6', '5bvrh', 'g53cv', 'hhu7v', 'j7fcw', 'b76cd', 'k908g', '45vrt', 'a1xc4', 'a3v2w', 'a2cus']\n",
    "\n",
    "if coded_decode == 0:\n",
    "    if len(user_input) >= 3:\n",
    "        # Split the input string into words\n",
    "        word_split = user_input.split()\n",
    "        \n",
    "        # Print the word_split array\n",
    "        print(f\"word_split: {word_split}\")\n",
    "\n",
    "        #Access the first letter of each word and modify the words\n",
    "        modified_words = []\n",
    "        for word in word_split:\n",
    "            if len(word) > 1:\n",
    "                print(f\"First letter of '{word}': {word[0]}\")\n",
    "                modified_word = word[1:] + word[0]\n",
    "                \n",
    "                modified_words.append(modified_word)\n",
    "        \n",
    "        # Join the modified words into a single string\n",
    "        modified_message = \" \".join(modified_words)\n",
    "        \n",
    "        # Select random choices\n",
    "        random_choices = random.choices(random_list, k=2)\n",
    "        \n",
    "        print(\"Modified message:\", modified_message)\n",
    "        print(\"Random message array 0:\", random_choices[0])\n",
    "        print(\"Random message array 1:\", random_choices[1])\n",
    "        \n",
    "        # Create the coded message\n",
    "        coded_message = random_choices[0] + modified_message + random_choices[1]\n",
    "        print(\"Coded message:\", coded_message)\n",
    "    else:\n",
    "        print(\"Very few characters, cannot decode\")\n",
    "\n",
    "elif coded_decode == 1:\n",
    "    if len(user_input) > 6:  # Ensure there are enough characters to remove\n",
    "        # Remove the first and last 5 characters\n",
    "        modified_input = user_input[5:-5]\n",
    "        modified_words = []  # Initialize the list to hold modified words\n",
    "\n",
    "        # Process the remaining characters\n",
    "        word_split = modified_input.split()\n",
    "        for word in word_split:\n",
    "            if len(word) > 1:\n",
    "                print(\"First letter of the word:\", word[0])\n",
    "                modified_word = word[-1] + word[:-1]\n",
    "                modified_words.append(modified_word)\n",
    "        \n",
    "        # Join the modified words into a single string\n",
    "        modified_message = \" \".join(modified_words)\n",
    "                \n",
    "        print(\"Modified message:\", modified_message)\n",
    "    else:\n",
    "        print(\"Very few characters, cannot decode\")\n",
    "else:\n",
    "    print(\"Invalid option. Please enter 0 to encode or 1 to decode.\")\n"
   ]
  },
  {
   "cell_type": "code",
   "execution_count": null,
   "id": "f87184ba-7f36-4da9-975b-b9900be8f068",
   "metadata": {},
   "outputs": [],
   "source": []
  },
  {
   "cell_type": "code",
   "execution_count": null,
   "id": "10d4042f-0f9c-4d89-9973-112ca6e802f7",
   "metadata": {},
   "outputs": [],
   "source": []
  }
 ],
 "metadata": {
  "kernelspec": {
   "display_name": "Python 3 (ipykernel)",
   "language": "python",
   "name": "python3"
  },
  "language_info": {
   "codemirror_mode": {
    "name": "ipython",
    "version": 3
   },
   "file_extension": ".py",
   "mimetype": "text/x-python",
   "name": "python",
   "nbconvert_exporter": "python",
   "pygments_lexer": "ipython3",
   "version": "3.12.2"
  }
 },
 "nbformat": 4,
 "nbformat_minor": 5
}
