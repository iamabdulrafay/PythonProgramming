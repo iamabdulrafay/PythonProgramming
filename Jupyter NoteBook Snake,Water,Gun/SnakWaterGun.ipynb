{
 "cells": [
  {
   "cell_type": "markdown",
   "id": "158cff48-051f-419e-a44a-7192d79b8e56",
   "metadata": {},
   "source": [
    "# Sneak Water Gun Game\n",
    "- computer choose the value for snake,water,gun\n",
    "- user choose the valkue for snake ,water ,gun\n",
    "- check the value for won\n",
    "- if not equal values then show loose\n",
    "- if user press on 0 exist the game"
   ]
  },
  {
   "cell_type": "code",
   "execution_count": 3,
   "id": "244209e7-0c62-4fa0-9e39-9168ba511e7b",
   "metadata": {},
   "outputs": [
    {
     "name": "stdin",
     "output_type": "stream",
     "text": [
      "choose the number (1 for snake, 2 for water, 3 for gun, 0 to exit):  2\n"
     ]
    },
    {
     "name": "stdout",
     "output_type": "stream",
     "text": [
      "You Loose\n",
      "You choose 2 and computer Choose 1 which is snake\n"
     ]
    },
    {
     "name": "stdin",
     "output_type": "stream",
     "text": [
      "choose the number (1 for snake, 2 for water, 3 for gun, 0 to exit):  2\n"
     ]
    },
    {
     "name": "stdout",
     "output_type": "stream",
     "text": [
      "You Won\n",
      "You choose2 and computer Choose2 which is water\n"
     ]
    },
    {
     "name": "stdin",
     "output_type": "stream",
     "text": [
      "choose the number (1 for snake, 2 for water, 3 for gun, 0 to exit):  3\n"
     ]
    },
    {
     "name": "stdout",
     "output_type": "stream",
     "text": [
      "You Loose\n",
      "You choose 3 and computer Choose 2 which is water\n"
     ]
    },
    {
     "name": "stdin",
     "output_type": "stream",
     "text": [
      "choose the number (1 for snake, 2 for water, 3 for gun, 0 to exit):  3\n"
     ]
    },
    {
     "name": "stdout",
     "output_type": "stream",
     "text": [
      "You Won\n",
      "You choose3 and computer Choose3 which is gun\n"
     ]
    },
    {
     "name": "stdin",
     "output_type": "stream",
     "text": [
      "choose the number (1 for snake, 2 for water, 3 for gun, 0 to exit):  0\n"
     ]
    },
    {
     "name": "stdout",
     "output_type": "stream",
     "text": [
      "Existing the Game\n"
     ]
    }
   ],
   "source": [
    "import random\n",
    "\n",
    "\n",
    "random_choice=[[\n",
    "    \"snake\" ,1 \n",
    "],[\"water\",2],[\"gun\",3]]\n",
    "\n",
    "\n",
    "def Game_Logic():\n",
    "    True_False=True\n",
    "    while True_False:\n",
    "      \n",
    "       user_input=int(input(\"choose the number (1 for snake, 2 for water, 3 for gun, 0 to exit): \") ) \n",
    "       r=random.choice(random_choice) \n",
    "\n",
    "       if user_input==0 or user_input <=3:\n",
    "             if user_input==r[1]:\n",
    "                  print(\"You Won\")\n",
    "                  print(f\"You choose{user_input} and computer Choose{r[1]} which is {r[0]}\")\n",
    "       \n",
    "                   \n",
    "                 \n",
    "\n",
    "             elif user_input==0:\n",
    "                 True_False=False\n",
    "                 print(\"Existing the Game\")\n",
    "           \n",
    "              \n",
    "             else:\n",
    "                 print(\"You Loose\")\n",
    "                 print(f\"You choose {user_input} and computer Choose {r[1]} which is {r[0]}\")\n",
    "           \n",
    "           \n",
    "     \n",
    "\n",
    "       else:\n",
    "           print(\"Select Value Between 0 to 3\")\n",
    "Game_Logic()"
   ]
  },
  {
   "cell_type": "code",
   "execution_count": null,
   "id": "7e5a53d5-5d99-4656-9ae4-23d4108a302e",
   "metadata": {},
   "outputs": [],
   "source": []
  },
  {
   "cell_type": "code",
   "execution_count": null,
   "id": "3da0323b-77b4-4bcd-9489-76e29a255c47",
   "metadata": {},
   "outputs": [],
   "source": []
  }
 ],
 "metadata": {
  "kernelspec": {
   "display_name": "Python 3 (ipykernel)",
   "language": "python",
   "name": "python3"
  },
  "language_info": {
   "codemirror_mode": {
    "name": "ipython",
    "version": 3
   },
   "file_extension": ".py",
   "mimetype": "text/x-python",
   "name": "python",
   "nbconvert_exporter": "python",
   "pygments_lexer": "ipython3",
   "version": "3.12.2"
  }
 },
 "nbformat": 4,
 "nbformat_minor": 5
}
