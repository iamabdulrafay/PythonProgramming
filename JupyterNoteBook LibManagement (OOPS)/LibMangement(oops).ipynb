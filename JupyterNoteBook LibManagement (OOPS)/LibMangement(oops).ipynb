{
 "cells": [
  {
   "cell_type": "code",
   "execution_count": 61,
   "id": "f2e01e45-24db-45c5-8e25-b2ba40617108",
   "metadata": {},
   "outputs": [
    {
     "name": "stdout",
     "output_type": "stream",
     "text": [
      "Your no of books is updated \n",
      "\n",
      "update books------\n",
      "['Peter', 'Rich and Poor', 'To Kill a Mockingbird', '1984', 'Pride and Prejudice', 'The Great Gatsby', 'Moby Dick', 'War and Peace', 'The Catcher in the Rye', 'The Lord of the Rings', 'The Hobbit', \"Harry Potter and the Sorcerer's Stone\", 'The Alchemist', 'The Da Vinci Code', 'The Catcher in the Rye', 'Brave New World', 'Crime and Punishment', 'The Brothers Karamazov', 'Anna Karenina', 'The Kite Runner', 'The Book Thief', 'A Tale of Two Cities', 'The Hunger Games', 'Jane Eyre', 'Wuthering Heights', 'Great Expectations', 'Les Misérables', 'Fahrenheit 451', 'The Chronicles of Narnia', 'The Shining']\n",
      "\n",
      "\n",
      "no of books is------\n",
      "30\n"
     ]
    }
   ],
   "source": [
    "class LibManage:\n",
    "   def __init__(self):\n",
    "       # already books we have \n",
    "        self.books = [\"Peter\", \"Rich and Poor\",\n",
    "         \"To Kill a Mockingbird\", \n",
    "         \"1984\", \n",
    "         \"Pride and Prejudice\", \n",
    "         \"The Great Gatsby\", \n",
    "         \"Moby Dick\", \n",
    "         \"War and Peace\", \n",
    "         \"The Catcher in the Rye\", \n",
    "         \"The Lord of the Rings\", \n",
    "         \"The Hobbit\", \n",
    "         \"Harry Potter and the Sorcerer's Stone\"]\n",
    "       \n",
    "        # hard coded alreday books counting \n",
    "        self.no_book=10\n",
    "\n",
    "   def add_books(self,new_books):\n",
    "       #extends new books in class  Bookvaribale\n",
    "        self.books.extend(new_books)\n",
    "       # update no of book \n",
    "        self.no_book=len(self.books)\n",
    "        if (self.no_book==len(self.books)):\n",
    "           print(\"Your no of books is updated \\n\")\n",
    "        else:\n",
    "           print(\"Your no of books is not updated\\n\")\n",
    "        print(f\"update books------\\n{self.books}\\n\\n\\nno of books is------\\n{self.no_book}\")\n",
    "\n",
    "\n",
    "    \n",
    "\n",
    "\n",
    "    \n",
    "collection=LibManage() \n",
    "# add new books here \n",
    "new_books=[ \n",
    "    \"The Alchemist\", \"The Da Vinci Code\", \"The Catcher in the Rye\", \n",
    "    \"Brave New World\", \"Crime and Punishment\", \"The Brothers Karamazov\",\n",
    "    \"Anna Karenina\", \"The Kite Runner\", \"The Book Thief\", \n",
    "    \"A Tale of Two Cities\", \"The Hunger Games\", \"Jane Eyre\", \n",
    "    \"Wuthering Heights\", \"Great Expectations\", \"Les Misérables\", \n",
    "    \"Fahrenheit 451\", \"The Chronicles of Narnia\", \"The Shining\"\n",
    "]\n",
    "# appending new books in class \n",
    "collection.add_books(new_books)"
   ]
  },
  {
   "cell_type": "code",
   "execution_count": null,
   "id": "29fab0c0-e9cc-4168-8d32-135f647ca4f7",
   "metadata": {},
   "outputs": [],
   "source": []
  }
 ],
 "metadata": {
  "kernelspec": {
   "display_name": "Python 3 (ipykernel)",
   "language": "python",
   "name": "python3"
  },
  "language_info": {
   "codemirror_mode": {
    "name": "ipython",
    "version": 3
   },
   "file_extension": ".py",
   "mimetype": "text/x-python",
   "name": "python",
   "nbconvert_exporter": "python",
   "pygments_lexer": "ipython3",
   "version": "3.12.2"
  }
 },
 "nbformat": 4,
 "nbformat_minor": 5
}
